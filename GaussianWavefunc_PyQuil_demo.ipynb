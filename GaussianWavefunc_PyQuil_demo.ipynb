{
 "cells": [
  {
   "cell_type": "markdown",
   "metadata": {},
   "source": [
    "Implementation of an algorithm to prepare a Gaussian state on a quantum computer, as described in the paper by A. Kitaev and W. Webb: https://arxiv.org/abs/0801.0342. The algorithm below is slightly modified from the original, and replaces the supplementary memory qubits with N-level controlled operations."
   ]
  },
  {
   "cell_type": "code",
   "execution_count": 1,
   "metadata": {
    "collapsed": true
   },
   "outputs": [],
   "source": [
    "%matplotlib inline\n",
    "import matplotlib.pyplot as plt\n",
    "import numpy as np\n",
    "from pyquil.quil import Program\n",
    "import pyquil.api as api"
   ]
  },
  {
   "cell_type": "code",
   "execution_count": 2,
   "metadata": {
    "collapsed": true
   },
   "outputs": [],
   "source": [
    "def norm_(sigma_, mu_, N):\n",
    "   \"\"\"\n",
    "   Normalization factor for the state. Defined in Eq (7) of paper.\n",
    "   \n",
    "   Inputs:-\n",
    "   sigma_: standard deviation\n",
    "   mu_: mean\n",
    "   N: cutoff the for the infinite sum, i.e. sum_{i=-N}^{i=N} (...)\n",
    "   \"\"\"\n",
    "   return np.sum(np.exp((-(np.arange(-N, N+1, 1) - mu_)**2)/float(sigma_**2)))\n",
    "\n",
    "def angle_(sigma_, mu_, N=10**3):\n",
    "    \"\"\"\n",
    "    The angle $\\alpha$ defined in Eq (12)\n",
    "    \"\"\"\n",
    "    return np.arccos(np.sqrt(norm_(sigma_/2., mu_/2., N)/norm_(sigma_, mu_, N)))"
   ]
  },
  {
   "cell_type": "code",
   "execution_count": 3,
   "metadata": {
    "collapsed": true
   },
   "outputs": [],
   "source": [
    "quantum_simulator = api.QVMConnection()"
   ]
  },
  {
   "cell_type": "markdown",
   "metadata": {},
   "source": [
    "### 4 qubits"
   ]
  },
  {
   "cell_type": "code",
   "execution_count": 4,
   "metadata": {
    "collapsed": true
   },
   "outputs": [],
   "source": [
    "NN = 4\n",
    "mu = 8.0\n",
    "sigma = 3.0"
   ]
  },
  {
   "cell_type": "code",
   "execution_count": 5,
   "metadata": {
    "collapsed": true
   },
   "outputs": [],
   "source": [
    "p = Program()"
   ]
  },
  {
   "cell_type": "code",
   "execution_count": 6,
   "metadata": {
    "collapsed": true
   },
   "outputs": [],
   "source": [
    "# qubit 0\n",
    "sigma_0 = sigma\n",
    "mu_0 = mu\n",
    "alpha_0 = angle_(sigma_0, mu_0)"
   ]
  },
  {
   "cell_type": "code",
   "execution_count": 7,
   "metadata": {
    "collapsed": true
   },
   "outputs": [],
   "source": [
    "# qubit 1\n",
    "sigma_1 = sigma_0/2.0\n",
    "mu_10 = mu_0/2.0\n",
    "mu_11= (mu_0 - 1.0)/2.0\n",
    "alpha_10 = angle_(sigma_1, mu_10)\n",
    "alpha_11 = angle_(sigma_1, mu_11)"
   ]
  },
  {
   "cell_type": "code",
   "execution_count": 8,
   "metadata": {
    "collapsed": true
   },
   "outputs": [],
   "source": [
    "# qubit 2\n",
    "sigma_2 = sigma/4.\n",
    "mu_2_0 = mu/4.\n",
    "mu_2_1 = ((mu/2.) - 1.)/2.\n",
    "mu_2_2 = ((mu - 1.)/2.)/2.\n",
    "mu_2_3 = (((mu - 1.)/2.) - 1)/2."
   ]
  },
  {
   "cell_type": "code",
   "execution_count": 9,
   "metadata": {
    "collapsed": true
   },
   "outputs": [],
   "source": [
    "alpha_2_0 = angle_(sigma_2, mu_2_0)\n",
    "alpha_2_1 = angle_(sigma_2, mu_2_1)\n",
    "alpha_2_2 = angle_(sigma_2, mu_2_2)\n",
    "alpha_2_3 = angle_(sigma_2, mu_2_3)"
   ]
  },
  {
   "cell_type": "code",
   "execution_count": 10,
   "metadata": {
    "collapsed": true
   },
   "outputs": [],
   "source": [
    "# qubit 3\n",
    "sigma_3 = sigma/8.\n",
    "mu_3_0 = ((mu/2.)/2.)/2.\n",
    "mu_3_1 = (((mu/2.)/2.) - 1.)/2.\n",
    "mu_3_2 = (((mu/2.) - 1.)/2.)/2.\n",
    "mu_3_3 = ((((mu/2.) - 1.)/2.) - 1.)/2.\n",
    "mu_3_4 = (((mu - 1.)/2.)/2.)/2.\n",
    "mu_3_5 = ((((mu - 1.)/2.)/2.) - 1.)/2.\n",
    "mu_3_6 = ((((mu - 1.)/2.) - 1.)/2.)/2.\n",
    "mu_3_7 = (((((mu - 1.)/2.) - 1.)/2.) - 1.)/2."
   ]
  },
  {
   "cell_type": "code",
   "execution_count": 11,
   "metadata": {
    "collapsed": true
   },
   "outputs": [],
   "source": [
    "alpha_3_0 = angle_(sigma_3, mu_3_0)\n",
    "alpha_3_1 = angle_(sigma_3, mu_3_1)\n",
    "alpha_3_2 = angle_(sigma_3, mu_3_2)\n",
    "alpha_3_3 = angle_(sigma_3, mu_3_3)\n",
    "alpha_3_4 = angle_(sigma_3, mu_3_4)\n",
    "alpha_3_5 = angle_(sigma_3, mu_3_5)\n",
    "alpha_3_6 = angle_(sigma_3, mu_3_6)\n",
    "alpha_3_7 = angle_(sigma_3, mu_3_7)"
   ]
  },
  {
   "cell_type": "code",
   "execution_count": 12,
   "metadata": {
    "collapsed": true
   },
   "outputs": [],
   "source": [
    "level_0_gate = np.array([[np.cos(alpha_0), -np.sin(alpha_0)], [np.sin(alpha_0), np.cos(alpha_0)]])"
   ]
  },
  {
   "cell_type": "code",
   "execution_count": 13,
   "metadata": {
    "collapsed": true
   },
   "outputs": [],
   "source": [
    "level_1_gate = np.array([[np.cos(alpha_10), -np.sin(alpha_10), 0, 0],\n",
    "                    [np.sin(alpha_10), np.cos(alpha_10), 0, 0],\n",
    "                    [0, 0, np.cos(alpha_11), -np.sin(alpha_11)],\n",
    "                    [0, 0, np.sin(alpha_11), np.cos(alpha_11)]])"
   ]
  },
  {
   "cell_type": "code",
   "execution_count": 14,
   "metadata": {
    "collapsed": true
   },
   "outputs": [],
   "source": [
    "level_2_gate = np.array(\n",
    "    [[np.cos(alpha_2_0), -np.sin(alpha_2_0), 0, 0, 0, 0, 0, 0],\n",
    "     [np.sin(alpha_2_0), np.cos(alpha_2_0), 0, 0, 0, 0, 0, 0],\n",
    "     [0, 0, np.cos(alpha_2_1), -np.sin(alpha_2_1), 0, 0, 0, 0],\n",
    "     [0, 0, np.sin(alpha_2_1), np.cos(alpha_2_1), 0, 0, 0, 0],\n",
    "     [0, 0, 0, 0, np.cos(alpha_2_2), -np.sin(alpha_2_2), 0, 0],\n",
    "     [0, 0, 0, 0, np.sin(alpha_2_2), np.cos(alpha_2_2), 0, 0],\n",
    "     [0, 0, 0, 0, 0, 0, np.cos(alpha_2_3), -np.sin(alpha_2_3)],\n",
    "     [0, 0, 0, 0, 0, 0, np.sin(alpha_2_3), np.cos(alpha_2_3)]])"
   ]
  },
  {
   "cell_type": "code",
   "execution_count": 15,
   "metadata": {
    "collapsed": true
   },
   "outputs": [],
   "source": [
    "level_3_gate = np.array(\n",
    "    [[np.cos(alpha_3_0), -np.sin(alpha_3_0), 0, 0, 0, 0, 0, 0, 0, 0, 0, 0, 0, 0, 0, 0],\n",
    "     [np.sin(alpha_3_0), np.cos(alpha_3_0), 0, 0, 0, 0, 0, 0, 0, 0, 0, 0, 0, 0, 0, 0],\n",
    "     [0, 0, np.cos(alpha_3_1), -np.sin(alpha_3_1), 0, 0, 0, 0, 0, 0, 0, 0, 0, 0, 0, 0],\n",
    "     [0, 0, np.sin(alpha_3_1), np.cos(alpha_3_1), 0, 0, 0, 0, 0, 0, 0, 0, 0, 0, 0, 0],\n",
    "     [0, 0, 0, 0, np.cos(alpha_3_2), -np.sin(alpha_3_2), 0, 0, 0, 0, 0, 0, 0, 0, 0, 0],\n",
    "     [0, 0, 0, 0, np.sin(alpha_3_2), np.cos(alpha_3_2), 0, 0, 0, 0, 0, 0, 0, 0, 0, 0],\n",
    "     [0, 0, 0, 0, 0, 0, np.cos(alpha_3_3), -np.sin(alpha_3_3), 0, 0, 0, 0, 0, 0, 0, 0],\n",
    "     [0, 0, 0, 0, 0, 0, np.sin(alpha_3_3), np.cos(alpha_3_3), 0, 0, 0, 0, 0, 0, 0, 0],\n",
    "     [0, 0, 0, 0, 0, 0, 0, 0, np.cos(alpha_3_4), -np.sin(alpha_3_4), 0, 0, 0, 0, 0, 0],\n",
    "     [0, 0, 0, 0, 0, 0, 0, 0, np.sin(alpha_3_4), np.cos(alpha_3_4), 0, 0, 0, 0, 0, 0],\n",
    "     [0, 0, 0, 0, 0, 0, 0, 0, 0, 0, np.cos(alpha_3_5), -np.sin(alpha_3_5), 0, 0, 0, 0],\n",
    "     [0, 0, 0, 0, 0, 0, 0, 0, 0, 0, np.sin(alpha_3_5), np.cos(alpha_3_5), 0, 0, 0, 0],\n",
    "     [0, 0, 0, 0, 0, 0, 0, 0, 0, 0, 0, 0, np.cos(alpha_3_6), -np.sin(alpha_3_6), 0, 0],\n",
    "     [0, 0, 0, 0, 0, 0, 0, 0, 0, 0, 0, 0, np.sin(alpha_3_6), np.cos(alpha_3_6), 0, 0],\n",
    "     [0, 0, 0, 0, 0, 0, 0, 0, 0, 0, 0, 0, 0, 0, np.cos(alpha_3_7), -np.sin(alpha_3_7)],\n",
    "     [0, 0, 0, 0, 0, 0, 0, 0, 0, 0, 0, 0, 0, 0, np.sin(alpha_3_7), np.cos(alpha_3_7)]]\n",
    ")"
   ]
  },
  {
   "cell_type": "code",
   "execution_count": 16,
   "metadata": {},
   "outputs": [
    {
     "data": {
      "text/plain": [
       "<pyquil.quil.Program at 0x111390940>"
      ]
     },
     "execution_count": 16,
     "metadata": {},
     "output_type": "execute_result"
    }
   ],
   "source": [
    "p.defgate(\"Level_0_gate\", level_0_gate)\n",
    "p.defgate(\"Level_1_gate\", level_1_gate)\n",
    "p.defgate(\"Level_2_gate\", level_2_gate)\n",
    "p.defgate(\"Level_3_gate\", level_3_gate)"
   ]
  },
  {
   "cell_type": "code",
   "execution_count": 17,
   "metadata": {},
   "outputs": [
    {
     "data": {
      "text/plain": [
       "<pyquil.quil.Program at 0x111390940>"
      ]
     },
     "execution_count": 17,
     "metadata": {},
     "output_type": "execute_result"
    }
   ],
   "source": [
    "p.inst((\"Level_0_gate\", 0))\n",
    "p.inst((\"Level_1_gate\", 0, 1))\n",
    "p.inst((\"Level_2_gate\", 0, 1, 2))\n",
    "p.inst((\"Level_3_gate\", 0, 1, 2, 3))"
   ]
  },
  {
   "cell_type": "code",
   "execution_count": 18,
   "metadata": {},
   "outputs": [
    {
     "name": "stdout",
     "output_type": "stream",
     "text": [
      "{'0000': 0.00030691455789959418, '0001': 0.00083568687856302906, '0010': 0.0034473082271214389, '0011': 0.011693388287512227, '0100': 0.031785205174715767, '0101': 0.069184584219319292, '0110': 0.12058243217460905, '0111': 0.16828634050116659, '1000': 0.18806319451608564, '1001': 0.1682863405011667, '1010': 0.12058243217460914, '1011': 0.069184584219319292, '1100': 0.031785205174715787, '1101': 0.011693388287512227, '1110': 0.0034473082271214424, '1111': 0.00083568687856305421}\n"
     ]
    }
   ],
   "source": [
    "wavefunction = quantum_simulator.wavefunction(p)\n",
    "print (wavefunction.get_outcome_probs())"
   ]
  },
  {
   "cell_type": "code",
   "execution_count": 19,
   "metadata": {
    "collapsed": true
   },
   "outputs": [],
   "source": [
    "wavefcn_xlist = list(wavefunction.get_outcome_probs().keys())\n",
    "wavefcn_ylist = list(wavefunction.get_outcome_probs().values())"
   ]
  },
  {
   "cell_type": "code",
   "execution_count": 20,
   "metadata": {},
   "outputs": [
    {
     "data": {
      "image/png": "[encoded data removed]",
      "text/plain": [
       "<matplotlib.figure.Figure at 0x1113b1828>"
      ]
     },
     "metadata": {},
     "output_type": "display_data"
    }
   ],
   "source": [
    "plt.plot(range(len(wavefcn_ylist)), wavefcn_ylist)\n",
    "plt.xticks(range(len(wavefcn_xlist)), wavefcn_xlist, rotation=70)\n",
    "plt.show()"
   ]
  },
  {
   "cell_type": "code",
   "execution_count": null,
   "metadata": {
    "collapsed": true
   },
   "outputs": [],
   "source": []
  },
  {
   "cell_type": "code",
   "execution_count": null,
   "metadata": {
    "collapsed": true
   },
   "outputs": [],
   "source": []
  }
 ],
 "metadata": {
  "kernelspec": {
   "display_name": "Python 3",
   "language": "python",
   "name": "python3"
  },
  "language_info": {
   "codemirror_mode": {
    "name": "ipython",
    "version": 3
   },
   "file_extension": ".py",
   "mimetype": "text/x-python",
   "name": "python",
   "nbconvert_exporter": "python",
   "pygments_lexer": "ipython3",
   "version": "3.6.1"
  }
 },
 "nbformat": 4,
 "nbformat_minor": 2
}
